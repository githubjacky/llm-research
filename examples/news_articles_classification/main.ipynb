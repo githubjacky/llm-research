{
 "cells": [
  {
   "cell_type": "code",
   "execution_count": 1,
   "metadata": {},
   "outputs": [
    {
     "data": {
      "text/plain": [
       "'/llm_research'"
      ]
     },
     "execution_count": 1,
     "metadata": {},
     "output_type": "execute_result"
    }
   ],
   "source": [
    "import os\n",
    "os.chdir(\"../../\")\n",
    "os.getcwd()"
   ]
  },
  {
   "cell_type": "code",
   "execution_count": 2,
   "metadata": {},
   "outputs": [],
   "source": [
    "from langchain.prompts import PromptTemplate\n",
    "\n",
    "\n",
    "def compile_prompt():\n",
    "    system_template = \"\"\"\\\n",
    "You are an experienced economist working on constructing {country}'s Economic Policy Uncertainty Index (EPU index). Your goal is to classify whether a news article introduces the \"policy-related economic uncertainty\" for {country}.\n",
    "\n",
    "The label for the news article that surely introduce policy-related economic uncertainty is 1, while the one that 'does not' introduces it is 0. Be careful with the label definition and make the classification based on this definition.\n",
    "\n",
    "Please follow the below steps strictly.\n",
    "\n",
    "Step 1:\n",
    "What country is this news article mainly realted to? If it is 'not' mainly related to {country}, simply classify it with label 0, and there is no need to consider either Step 2 nor Step 3. The relevance is defined, for example, by examining whether the people or companies mentioned in the news are correlated with {country} or if the events in the news actually happen within {country}.\n",
    "\n",
    "Step 2:\n",
    "In this step, the news should be related to {country}, and further check whether the news article is related to the {country}'s economic uncertainty, considering future economic conditions, trends, or outcomes. If the news article is 'not' related to the {country}'s economic uncertainty, then it should also be classified as 0.\n",
    "\n",
    "Step 3:\n",
    "In this step, the news should be related to the {country}'s economic uncertainty, and further check whether the economic uncertainty is policy-related. For this type of news article that specifically introduces {country}'s policy-related economic uncertainty, it should be classified as 1. One possible example is the news introduces uncertainty as a consequence of changes or ambiguity in government policies, regulations, or fiscal measures.\n",
    "\n",
    "Notice: After making the classification, please also provide a thorough explanation.\\\n",
    "\"\"\"\n",
    "\n",
    "    system_prompt_template = PromptTemplate.from_template(system_template)\n",
    "    system_prompt_template.save('examples/news_articles_classification/prompt/system_message.json')\n",
    "\n",
    "    human_template = \"\"\"\\\n",
    "News article:\n",
    "{content}\n",
    "\n",
    "Question: \n",
    "Think step by step and determine which label should the above news article be classified as? Recall that 1 for introducing policy-related economic uncertainty and 0 for the opposite case.\n",
    "\n",
    "Output Instructions:\n",
    "1. Your answer should be a json string and be able to parsed into a dictionary with the specified keys. Follow the schema below carefully.\n",
    "{output_instructions}\n",
    "\n",
    "2. In addition to correctly classifying the label, provide the reasons based on the previously mentioned steps. Specifically, for label 1 news, indicate at which steps it fails.\n",
    "\n",
    "3. Besides, don't forget to escape a single quote in the reason section.\n",
    "\n",
    "{instructions}\n",
    "\"\"\"\n",
    "    human_prompt_template = PromptTemplate.from_template(human_template)\n",
    "    human_prompt_template.save('examples/news_articles_classification/prompt/human_message.json')"
   ]
  },
  {
   "cell_type": "code",
   "execution_count": 3,
   "metadata": {},
   "outputs": [],
   "source": [
    "compile_prompt()"
   ]
  },
  {
   "cell_type": "code",
   "execution_count": 4,
   "metadata": {},
   "outputs": [],
   "source": [
    "from pydantic import BaseModel, Field\n",
    "\n",
    "\n",
    "class LLMResponse(BaseModel):\n",
    "    pred: int = Field(\n",
    "        description=\" \".join((\n",
    "            \"If the news article 'does' introduce policy-related economic uncertainty\" \n",
    "            \"than this field should be 1. Otherwise, it's 0.\",\n",
    "        ))\n",
    "    )\n",
    "    reason: str = Field(\n",
    "        description=\" \".join((\n",
    "            \"Reason for why this news article introduce (label 1) or not introduce (label 0) policy-related economic uncertainty.\",\n",
    "            \"Your reason should be consistent with your prediction field.\"\n",
    "            \"Use no more thant 100 words.\",\n",
    "        ))\n",
    "    )"
   ]
  },
  {
   "cell_type": "code",
   "execution_count": 5,
   "metadata": {},
   "outputs": [],
   "source": [
    "import orjson\n",
    "from pathlib import Path"
   ]
  },
  {
   "cell_type": "code",
   "execution_count": 6,
   "metadata": {},
   "outputs": [],
   "source": [
    "training_samples = [\n",
    "    orjson.loads(instance)\n",
    "    for instance in Path(\"examples/news_articles_classification/training_samples_200.jsonl\").read_text().split(\"\\n\")\n",
    "]"
   ]
  },
  {
   "cell_type": "code",
   "execution_count": 7,
   "metadata": {},
   "outputs": [
    {
     "data": {
      "text/plain": [
       "{'unique_id_current': 'SF_2_2004_12',\n",
       " 'EU': 0,\n",
       " 'EPU': 0,\n",
       " 'category_codes': '',\n",
       " 'mention_foreign': 0,\n",
       " 'mention_foreign_list': '',\n",
       " 'mainly_foreign': 0,\n",
       " 'who': 0,\n",
       " 'actions': 0,\n",
       " 'effects': 0,\n",
       " 'title': \"Schott gets a little practice for A's stadium hunt\",\n",
       " 'content': 'A\\'s owner Steve Schott is building a ballpark in the South Bay, in the heart of the Giants\\' fan base, with no concern about the Giants\\' territorial rights to the area.\\n\\nHe\\'s even funding it himself, and it\\'s expected to open next year.\\n\\nWhat a windfall for the local nine.\\n\\nNot so fast, A\\'s fans. Its capacity is 1,500, and its location is the campus of Santa Clara University, Schott\\'s alma mater. It\\'s not exactly the revenue-generating jewel that would save the A\\'s from an eternity of living on the cheap.\\n\\nSchott\\'s $4 million donation was a generous gift to the school -- its baseball team no longer has to share a field with soccer players -- but the A\\'s still don\\'t have a ballpark plan of their own. So home, as it has been since the team moved to Oakland in 1968, will remain the Coliseum.\\n\\nIt\\'s not that the A\\'s have lost their desire for an alternative facility. In fact, the matter is back on the drawing board, if only in fine print.\\n\\nIn contrast to a year ago at this time, when Schott dismissed any stadium talk because of a poor economy, particularly in Oakland and Alameda County, there\\'s a feeling of optimism in the front office that the stadium idea is not gone for good.\\n\\nIn November, Schott created the position of vice president of venue development and hired Lewis Wolff, whose purpose is to evaluate possible ballpark sites and eventually buy into the team. Wolff once was a part-owner of the Warriors and in 1985 tried to build a ballpark in San Jose with the intention of relocating the Giants.\\n\\nWolff is hoping for better luck with the A\\'s, and the preference is to stay in Oakland or somewhere in Alameda, though the A\\'s aren\\'t discounting options in the South Bay and realize public funds don\\'t come easy.\\n\\nFor now, they have an eye on the Montreal Expos\\' plight. Commissioner Bud Selig recently announced the Expos\\' future home will be known by the All-Star break, and a move to Washington, D.C. -- in the same region as the Orioles - - might pave the way for an A\\'s move to the South Bay, which long ago was declared by Major League Baseball as Giants territory, off-limits to the A\\'s. \"The key to the whole thing is, how do we generate more revenues to pay these players the money they\\'re entitled to?\" said Schott, whose latest defection was former American League MVP Miguel Tejada, now a Baltimore Oriole. Eric Chavez could be a free agent next winter, and Tim Hudson is eligible the following year. \"It comes back to the venue. If a new venue is on the horizon, you get a chance to practically double your revenues, and then it\\'s basically a no- brainer to sit down and effectively work out some contract extensions with your top talent.\"\\n\\nSchott continues to say the A\\'s can\\'t keep competing with the current revenue stream -- they rank 23rd among 30 teams -- but the fact is, the A\\'s won more regular-season games over the past four years (392) than in any four-year stretch of the team\\'s Oakland history, topping the dynasties of the Charlie Finley (mid-\\'70s) and Walter Haas (late \\'80s, early \\'90s) ownerships despite limited revenues and restricted payrolls. \"What can I say?\" Schott said, grinning. \"We\\'re good.\"\\n\\nBut for how much longer? The assumption is that the team\\'s gifted nucleus will keep eroding in the absence of a revenue-friendly ballpark. Schott is encouraged about the chances of re-signing Chavez, especially because his new agent is former A\\'s pitcher Dave Stewart, but retaining the Big Three -- pitchers Barry Zito, Mark Mulder and Hudson, the biggest on-field keys to the team\\'s success -- is a bigger challenge.\\n\\nHudson is signed through 2005, Zito and Mulder through 2006.\\n\\nSchott is searching for creative ways to keep his stars on the roster, even suggesting an extreme measure of having corporations get involved in negotiations and sponsor players. \"You\\'d commit so much each year to a certain player and then work out an arrangement in which he\\'d endorse products for you,\" Schott said. \"I\\'m thinking we\\'d have to do something like that until we get a new stadium.\"\\n\\nAs is, the A\\'s have been baseball\\'s most dependable team since 2000, dollar for dollar -- at least until the postseason, where opening-round eliminations are a habit.\\n\\nThrough it all, the A\\'s have run a tight and effective business. They\\'re almost always in the black. They never defer contracts. Attendance increased five straight years. Payroll increased seven straight years. They say corporate sales are up 72 percent since 1996. Cable viewership, in the same span, swelled 333 percent.\\n\\nOn the field, it\\'s a similar story. Only the Mariners have a better regular-season record over the past four seasons, during which A\\'s players have won two MVP awards -- Jason Giambi and Tejada, both of whom are gone -- and a Cy Young Award (Zito).\\n\\nIt\\'s a far cry from the early days of Schott\\'s eight-year ownership. He and Ken Hofmann inherited a team that had three straight losing seasons, dwindling attendance, a depleted farm system and a whole lot of fan bitterness in the wake of the players\\' strike.\\n\\nFurthermore, the Raiders were on the verge of returning to Oakland and turning the Coliseum into a stinker of a baseball facility. \"You need to be able to generate new revenue, and we\\'ve been doing it,\" Schott said. \"Revenues are up, but it isn\\'t leaps and bounds. It\\'s always in small increments, because we don\\'t have a venue.\"\\n\\nThat\\'s where Wolff enters the picture. \"I\\'d say we\\'re midway through our analysis,\" said Wolff, who has been studying ballpark sites for 2 1/2 months. \"In the next two or three months, we\\'ll try to bring together cost information to determine the best recommendation we could make to Steve.\"\\n\\nWolff seems a perfect liaison to the commissioner\\'s office. Not only did he and Selig attend the University of Wisconsin together, but they were in the same fraternity. Wolff played down the relationship, knowing old frat tales won\\'t get the A\\'s a new yard.\\n\\nBut it might be a start. Selig, who repeatedly has said the A\\'s can\\'t continue to survive in their current digs, hasn\\'t been at the Coliseum in a while. The word is that he tentatively plans to visit this season and get a personal tour from Schott.\\n\\nWolff reiterated that the priority is staying in Oakland, but Schott spoke of leaving \"no stone unturned,\" meaning the South Bay is part of the equation despite the Giants\\' rights. It\\'s uncertain whether an Expos move to Washington would make it possible for the A\\'s to invade the Giants\\' turf. \"If they move, yeah, precedence could be set,\" Schott said. \"The bottom line is, teams sometimes have to move into new venues to remain competitive.\"\\n\\nWolff took the job hoping to buy into the A\\'s eventually, though it\\'s not necessarily contingent on Hofmann, 81, selling his share. Wolff called Schott, the managing general partner, \"one of the best owners in baseball, if not the best, in terms of making a team viable locally and economically.\"\\n\\nSchott said the A\\'s made a $1.5 million profit last season, all of which went into payroll, which is increasing from the low 50s to the high 50s, in millions of dollars. \"What team has been in the playoffs four years in a row with the revenues we\\'ve had, with the payrolls we\\'ve had, without losing money?\" asked Schott. \"If you put all those statistics in a hopper, we stand out completely. \"Sure, the Yankees have been there, but look at how much money they have to play with. The Giants have been in the playoffs three or four times, but look at their revenues compared to ours. Our revenues are about $100 million. I think the Giants\\' are about $200 million. \"A new stadium would change that. We\\'re not going to get a free ride. We realize that. We know we\\'re going to need private financing to go along with public financing. We hope something will get done.\"\\n\\nE-mail John Shea at jshea@sfchronicle.com.\\n\\nThis article appeared on page C - 1 of the San\\xa0Francisco\\xa0Chronicle'}"
      ]
     },
     "execution_count": 7,
     "metadata": {},
     "output_type": "execute_result"
    }
   ],
   "source": [
    "training_samples[0]"
   ]
  },
  {
   "cell_type": "code",
   "execution_count": 8,
   "metadata": {},
   "outputs": [],
   "source": [
    "import importlib\n",
    "import llm_research"
   ]
  },
  {
   "cell_type": "code",
   "execution_count": 9,
   "metadata": {},
   "outputs": [],
   "source": [
    "prompt = llm_research.Prompt(\n",
    "    LLMResponse,\n",
    "    'examples/news_articles_classification/prompt/system_message.json',\n",
    "    'examples/news_articles_classification/prompt/human_message.json',\n",
    "    country = \"US\"\n",
    ")"
   ]
  },
  {
   "cell_type": "code",
   "execution_count": 10,
   "metadata": {},
   "outputs": [],
   "source": [
    "model = llm_research.OllamaLLM(\n",
    "    model = 'phi4:14b-q4_K_M',\n",
    "    num_ctx = 16384,\n",
    "    num_predict = -1, \n",
    "    seed = 1126,\n",
    ")"
   ]
  },
  {
   "cell_type": "code",
   "execution_count": 11,
   "metadata": {},
   "outputs": [],
   "source": [
    "model.init_request(\n",
    "    \"news_examples_200\",\n",
    "    \"phi4_zero_shot\"\n",
    ")"
   ]
  },
  {
   "cell_type": "code",
   "execution_count": 12,
   "metadata": {},
   "outputs": [
    {
     "name": "stderr",
     "output_type": "stream",
     "text": [
      "  0%|          | 0/200 [00:00<?, ?it/s]/llm_research/llm_research/model/base_model.py:54: LangChainDeprecationWarning: Please see the migration guide at: https://python.langchain.com/docs/versions/migrating_memory/\n",
      "  memory = ConversationBufferMemory(return_messages=True)\n",
      "100%|██████████| 200/200 [29:11<00:00,  8.76s/it]\n"
     ]
    }
   ],
   "source": [
    "model.request_batch(\n",
    "    prompt,\n",
    "    \"examples/news_articles_classification/training_samples_200.jsonl\",\n",
    "    \"examples/news_articles_classification/fewshot_examples.jsonl\",\n",
    "    sleep=0\n",
    ")"
   ]
  },
  {
   "cell_type": "code",
   "execution_count": 55,
   "metadata": {},
   "outputs": [],
   "source": [
    "model.end_request()"
   ]
  }
 ],
 "metadata": {
  "kernelspec": {
   "display_name": "Python 3",
   "language": "python",
   "name": "python3"
  },
  "language_info": {
   "codemirror_mode": {
    "name": "ipython",
    "version": 3
   },
   "file_extension": ".py",
   "mimetype": "text/x-python",
   "name": "python",
   "nbconvert_exporter": "python",
   "pygments_lexer": "ipython3",
   "version": "3.11.11"
  }
 },
 "nbformat": 4,
 "nbformat_minor": 2
}
