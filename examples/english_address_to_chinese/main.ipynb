{
 "cells": [
  {
   "cell_type": "code",
   "execution_count": 1,
   "metadata": {},
   "outputs": [],
   "source": [
    "import os\n",
    "os.chdir('../../')"
   ]
  },
  {
   "cell_type": "code",
   "execution_count": 2,
   "metadata": {},
   "outputs": [],
   "source": [
    "from langchain.prompts import PromptTemplate\n",
    "from langchain_core.pydantic_v1 import BaseModel, Field\n",
    "\n",
    "from llm_research.model import Prompt\n",
    "\n",
    "\n",
    "system_template = \"\"\"\\\n",
    "You are an experienced expert in translating English addresses to Traditional Chinese.\n",
    "Your task is to translate the English address to Traditional Chinese using Json format.\n",
    "\"Notice: Do not include the country and postal code in your response\".\\\n",
    "\"\"\"\n",
    "system_prompt_template = PromptTemplate.from_template(system_template)\n",
    "system_prompt_path = 'examples/english_address_to_chinese/prompt/system.json'\n",
    "system_prompt_template.save(system_prompt_path)\n",
    "\n",
    "\n",
    "human_template = \"\"\"\\\n",
    "{instructions}\n",
    "Translate the following address in Traditional Chinese:\n",
    "{owner_address}\n",
    "Output Instructions:\n",
    "{output_instructions}\n",
    "Besides, don't forget to escape a single quote in your response json string.\n",
    "\"\"\"\n",
    "human_prompt_template = PromptTemplate.from_template(human_template)\n",
    "human_prompt_path = 'examples/english_address_to_chinese/prompt/human.json'\n",
    "human_prompt_template.save(human_prompt_path)\n",
    "\n",
    "\n",
    "class LLMResponse(BaseModel):\n",
    "    translated_address: str = Field(description=\"the translated address in Traditional Chinese\")\n",
    "prompt = Prompt(LLMResponse, system_prompt_path, human_prompt_path)"
   ]
  },
  {
   "cell_type": "code",
   "execution_count": 3,
   "metadata": {},
   "outputs": [
    {
     "data": {
      "text/plain": [
       "[{'owner_id': 240220054,\n",
       "  'owner_address': 'NO.56, LN. 125, XINXING ST., YANGMEI DIST.,  TAOYUAN CITY 326, TAIWAN (R.O.C.)'},\n",
       " {'owner_id': 240220055,\n",
       "  'owner_address': '6F., NO.39, FUHE ST., SANCHONG DIST., NEW TAIPEI  CITY 241, TAIWAN (R.O.C.)'},\n",
       " {'owner_id': 240220097,\n",
       "  'owner_address': 'NO. 1, LN. 200,  JUGUANG RD., BANQIAO DIST., NEW  TAIPEI CITY 22042, TAIWAN (R.O.C.)'},\n",
       " {'owner_id': 240220115,\n",
       "  'owner_address': 'NO. 343, XISHI RD., FENGYUAN, TAICHUNG COUNTY,  TAIWAN, R.O.C'},\n",
       " {'owner_id': 240220115,\n",
       "  'owner_address': 'NO.42-3, SEC. 3, YATAN RD., TANZI DIST., TAICHUNG CITY,  TAIWAN (R.O.C.)'},\n",
       " {'owner_id': 240220115,\n",
       "  'owner_address': '16F-3, NO.89, SHIZHENG RD., XITUN DIST., TAICHUNG CITY,  TAIWAN (R.O.C.)'},\n",
       " {'owner_id': 240220116,\n",
       "  'owner_address': 'NO. 343, XISHI RD., FENGYUAN DISTRICT, TAICHUNG CITY,  TAIWAN, R.O.C'},\n",
       " {'owner_id': 240220118,\n",
       "  'owner_address': 'NO. 6, ALY. 5, LN. 172,  CHANG’AN W. RD., DATONG DIST.,  TAIPEI CITY 10349, TAIWAN (R.O.C.)'},\n",
       " {'owner_id': 240220120,\n",
       "  'owner_address': 'NO. 12, ALY. 5, LN. 172,  CHANG’AN W. RD., DATONG  DIST., TAIPEI CITY 10349, TAIWAN (R.O.C.)'},\n",
       " {'owner_id': 240220117,\n",
       "  'owner_address': 'NO. 199, SEC. 3, NEIHU RD., NEIHU DIST., TAIPEI CITY  11454, TAIWAN (R.O.C.)'}]"
      ]
     },
     "execution_count": 3,
     "metadata": {},
     "output_type": "execute_result"
    }
   ],
   "source": [
    "from llm_research.model.utils import read_jsonl\n",
    "# query data\n",
    "read_jsonl('examples/english_address_to_chinese/data.jsonl')"
   ]
  },
  {
   "cell_type": "code",
   "execution_count": 4,
   "metadata": {},
   "outputs": [
    {
     "data": {
      "text/plain": [
       "[{'owner_address': 'NO.56, LN. 125, XINXING ST., YANGMEI DIST.,  TAOYUAN CITY 326, TAIWAN (R.O.C.)',\n",
       "  'translated_address': '桃園市楊梅區新興街125巷56號'},\n",
       " {'owner_address': '6F., NO.39, FUHE ST., SANCHONG DIST., NEW TAIPEI  CITY 241, TAIWAN (R.O.C.)',\n",
       "  'translated_address': '新北市三重區福和街39號6樓'},\n",
       " {'owner_address': 'NO. 1, LN. 200,  JUGUANG RD., BANQIAO DIST., NEW  TAIPEI CITY 22042, TAIWAN (R.O.C.)',\n",
       "  'translated_address': '新北市板橋區莒光路200巷1號'}]"
      ]
     },
     "execution_count": 4,
     "metadata": {},
     "output_type": "execute_result"
    }
   ],
   "source": [
    "# fewshot examples\n",
    "read_jsonl('examples/english_address_to_chinese/fewshot_examples.jsonl')"
   ]
  },
  {
   "cell_type": "code",
   "execution_count": 5,
   "metadata": {},
   "outputs": [
    {
     "name": "stderr",
     "output_type": "stream",
     "text": [
      "2024/01/26 12:11:38 INFO mlflow.tracking.fluent: Experiment with name '10-test' does not exist. Creating a new experiment.\n",
      "100%|██████████| 10/10 [00:48<00:00,  4.83s/it]\n"
     ]
    }
   ],
   "source": [
    "from llm_research.model import OpenAILLM\n",
    "model = OpenAILLM(model=\"gpt-3.5-turbo-1106\", temperature=0., timeout=120, verbose=True)\n",
    "model.init_request(experiment_name='10-test', run_name='chatgpt3.5')\n",
    "model.request_batch(\n",
    "    prompt,\n",
    "    'examples/english_address_to_chinese/data.jsonl',\n",
    "    'examples/english_address_to_chinese/fewshot_examples.jsonl'\n",
    ")\n",
    "model.end_request()"
   ]
  }
 ],
 "metadata": {
  "kernelspec": {
   "display_name": "llm-research-Es2z402j-py3.11",
   "language": "python",
   "name": "python3"
  },
  "language_info": {
   "codemirror_mode": {
    "name": "ipython",
    "version": 3
   },
   "file_extension": ".py",
   "mimetype": "text/x-python",
   "name": "python",
   "nbconvert_exporter": "python",
   "pygments_lexer": "ipython3",
   "version": "3.11.7"
  }
 },
 "nbformat": 4,
 "nbformat_minor": 2
}
