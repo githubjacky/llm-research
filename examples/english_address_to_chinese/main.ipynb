{
 "cells": [
  {
   "cell_type": "code",
   "execution_count": 1,
   "metadata": {},
   "outputs": [],
   "source": [
    "import os\n",
    "os.chdir('../../')"
   ]
  },
  {
   "cell_type": "code",
   "execution_count": 2,
   "metadata": {},
   "outputs": [],
   "source": [
    "from langchain.prompts import PromptTemplate\n",
    "from langchain_core.pydantic_v1 import BaseModel, Field\n",
    "\n",
    "from llm_research import Prompt\n",
    "\n",
    "\n",
    "system_template = \"\"\"\\\n",
    "You are an experienced expert in translating English addresses to Traditional Chinese.\n",
    "Your task is to translate the English address to Traditional Chinese using Json format.\n",
    "\"Notice: Do not include the country and postal code in your response\".\\\n",
    "\"\"\"\n",
    "system_prompt_template = PromptTemplate.from_template(system_template)\n",
    "system_prompt_path = 'examples/english_address_to_chinese/prompt/system.json'\n",
    "system_prompt_template.save(system_prompt_path)\n",
    "\n",
    "\n",
    "human_template = \"\"\"\\\n",
    "{instructions}\n",
    "Translate the following address in Traditional Chinese:\n",
    "{owner_address}\n",
    "Output Instructions:\n",
    "{output_instructions}\n",
    "Besides, don't forget to escape a single quote in your response json string.\n",
    "\"\"\"\n",
    "human_prompt_template = PromptTemplate.from_template(human_template)\n",
    "human_prompt_path = 'examples/english_address_to_chinese/prompt/human.json'\n",
    "human_prompt_template.save(human_prompt_path)\n",
    "\n",
    "\n",
    "class LLMResponse(BaseModel):\n",
    "    translated_address: str = Field(description=\"the translated address in Traditional Chinese\")\n",
    "prompt = Prompt(LLMResponse, system_prompt_path, human_prompt_path)"
   ]
  },
  {
   "cell_type": "code",
   "execution_count": 3,
   "metadata": {},
   "outputs": [
    {
     "name": "stderr",
     "output_type": "stream",
     "text": [
      "100%|██████████| 10/10 [00:40<00:00,  4.03s/it]\n"
     ]
    }
   ],
   "source": [
    "from llm_research import OpenAILLM\n",
    "model = OpenAILLM(model=\"gpt-3.5-turbo-1106\", temperature=0., timeout=120, verbose=True)\n",
    "model.init_request(experiment_name='10-test', run_name='chatgpt3.5')\n",
    "model.request_batch(\n",
    "    prompt,\n",
    "    'examples/english_address_to_chinese/data.jsonl',\n",
    "    'examples/english_address_to_chinese/fewshot_examples.jsonl'\n",
    ")\n",
    "model.end_request()"
   ]
  }
 ],
 "metadata": {
  "kernelspec": {
   "display_name": "llm-research-Es2z402j-py3.11",
   "language": "python",
   "name": "python3"
  },
  "language_info": {
   "codemirror_mode": {
    "name": "ipython",
    "version": 3
   },
   "file_extension": ".py",
   "mimetype": "text/x-python",
   "name": "python",
   "nbconvert_exporter": "python",
   "pygments_lexer": "ipython3",
   "version": "3.11.7"
  }
 },
 "nbformat": 4,
 "nbformat_minor": 2
}
